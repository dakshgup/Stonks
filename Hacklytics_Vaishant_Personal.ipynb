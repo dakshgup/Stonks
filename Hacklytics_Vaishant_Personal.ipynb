{
  "nbformat": 4,
  "nbformat_minor": 0,
  "metadata": {
    "colab": {
      "name": "Hacklytics Vaishant Personal.ipynb",
      "provenance": [],
      "collapsed_sections": [],
      "toc_visible": true
    },
    "kernelspec": {
      "name": "python3",
      "display_name": "Python 3"
    },
    "accelerator": "GPU"
  },
  "cells": [
    {
      "cell_type": "code",
      "metadata": {
        "id": "guuhSs1qXxN-",
        "colab_type": "code",
        "colab": {}
      },
      "source": [
        "import nltk\n",
        "import gensim\n",
        "import pandas as pd\n",
        "\n",
        "import datetime"
      ],
      "execution_count": 0,
      "outputs": []
    },
    {
      "cell_type": "code",
      "metadata": {
        "id": "T-x0n9Cr2kf7",
        "colab_type": "code",
        "outputId": "1fecb4e4-6e9d-40fc-de1a-21139ab3a540",
        "colab": {
          "base_uri": "https://localhost:8080/",
          "height": 88
        }
      },
      "source": [
        "import spacy\n",
        "!python -m spacy download en_core_web_lg"
      ],
      "execution_count": 0,
      "outputs": [
        {
          "output_type": "stream",
          "text": [
            "Requirement already satisfied: en_core_web_lg==2.1.0 from https://github.com/explosion/spacy-models/releases/download/en_core_web_lg-2.1.0/en_core_web_lg-2.1.0.tar.gz#egg=en_core_web_lg==2.1.0 in /usr/local/lib/python3.6/dist-packages (2.1.0)\n",
            "\u001b[38;5;2m✔ Download and installation successful\u001b[0m\n",
            "You can now load the model via spacy.load('en_core_web_lg')\n"
          ],
          "name": "stdout"
        }
      ]
    },
    {
      "cell_type": "code",
      "metadata": {
        "id": "sTpx0bDpBVmL",
        "colab_type": "code",
        "colab": {}
      },
      "source": [
        "nlp = spacy.load(\"en_core_web_lg\")"
      ],
      "execution_count": 0,
      "outputs": []
    },
    {
      "cell_type": "code",
      "metadata": {
        "id": "vL0AmlCe8Ihp",
        "colab_type": "code",
        "colab": {}
      },
      "source": [
        "\"\"\"Gives you a size 300 array of all the relevant entries.\"\"\"\n",
        "def aggregate_score(all_relevant_entries):\n",
        "  sum = [0]*300\n",
        "  for i in all_relevant_entries.values:\n",
        "    # Note: I'm using SpaCy's vectorizer here, but transition to Google's thing\n",
        "    # if this doesn't work at all\n",
        "    doc = nlp(i[0])\n",
        "    sum = sum + doc.vector * i[1]\n",
        "  return sum"
      ],
      "execution_count": 0,
      "outputs": []
    },
    {
      "cell_type": "markdown",
      "metadata": {
        "id": "7HRTqFFBdB86",
        "colab_type": "text"
      },
      "source": [
        "# Dealing with the Reddit data"
      ]
    },
    {
      "cell_type": "code",
      "metadata": {
        "id": "y04hw8MxdGMt",
        "colab_type": "code",
        "colab": {}
      },
      "source": [
        "red = pd.read_csv(\"reddits.csv\", index_col=0)"
      ],
      "execution_count": 0,
      "outputs": []
    },
    {
      "cell_type": "code",
      "metadata": {
        "id": "EGIj3Gxyj5Eo",
        "colab_type": "code",
        "colab": {}
      },
      "source": [
        "def utc_to_date(utc):\n",
        "  return datetime.datetime.utcfromtimestamp(utc).strftime('%Y-%m-%d')"
      ],
      "execution_count": 0,
      "outputs": []
    },
    {
      "cell_type": "code",
      "metadata": {
        "id": "SIJlLTF1dKQZ",
        "colab_type": "code",
        "outputId": "4fe6c069-0548-4933-f6d6-aa93719fc6da",
        "colab": {
          "base_uri": "https://localhost:8080/",
          "height": 204
        }
      },
      "source": [
        "red.head()"
      ],
      "execution_count": 0,
      "outputs": [
        {
          "output_type": "execute_result",
          "data": {
            "text/html": [
              "<div>\n",
              "<style scoped>\n",
              "    .dataframe tbody tr th:only-of-type {\n",
              "        vertical-align: middle;\n",
              "    }\n",
              "\n",
              "    .dataframe tbody tr th {\n",
              "        vertical-align: top;\n",
              "    }\n",
              "\n",
              "    .dataframe thead th {\n",
              "        text-align: right;\n",
              "    }\n",
              "</style>\n",
              "<table border=\"1\" class=\"dataframe\">\n",
              "  <thead>\n",
              "    <tr style=\"text-align: right;\">\n",
              "      <th></th>\n",
              "      <th>title</th>\n",
              "      <th>score</th>\n",
              "      <th>created_utc</th>\n",
              "    </tr>\n",
              "  </thead>\n",
              "  <tbody>\n",
              "    <tr>\n",
              "      <th>0</th>\n",
              "      <td>802.11n officially makes its way to the Airpor...</td>\n",
              "      <td>0.300062</td>\n",
              "      <td>1205778551</td>\n",
              "    </tr>\n",
              "    <tr>\n",
              "      <th>1</th>\n",
              "      <td>Safari 3.1 available: busts out HTML 5 support...</td>\n",
              "      <td>0.334054</td>\n",
              "      <td>1205861839</td>\n",
              "    </tr>\n",
              "    <tr>\n",
              "      <th>2</th>\n",
              "      <td>How Apple Got Everything Right By Doing Everyt...</td>\n",
              "      <td>0.387689</td>\n",
              "      <td>1205908607</td>\n",
              "    </tr>\n",
              "    <tr>\n",
              "      <th>3</th>\n",
              "      <td>Unlimited iTunes Downloads Coming Soon?</td>\n",
              "      <td>0.320115</td>\n",
              "      <td>1205953302</td>\n",
              "    </tr>\n",
              "    <tr>\n",
              "      <th>4</th>\n",
              "      <td>Secrets: all your undocumented OS X settings i...</td>\n",
              "      <td>0.336608</td>\n",
              "      <td>1206037963</td>\n",
              "    </tr>\n",
              "  </tbody>\n",
              "</table>\n",
              "</div>"
            ],
            "text/plain": [
              "                                               title     score  created_utc\n",
              "0  802.11n officially makes its way to the Airpor...  0.300062   1205778551\n",
              "1  Safari 3.1 available: busts out HTML 5 support...  0.334054   1205861839\n",
              "2  How Apple Got Everything Right By Doing Everyt...  0.387689   1205908607\n",
              "3            Unlimited iTunes Downloads Coming Soon?  0.320115   1205953302\n",
              "4  Secrets: all your undocumented OS X settings i...  0.336608   1206037963"
            ]
          },
          "metadata": {
            "tags": []
          },
          "execution_count": 12
        }
      ]
    },
    {
      "cell_type": "code",
      "metadata": {
        "id": "UXXEqCnwdLFI",
        "colab_type": "code",
        "colab": {}
      },
      "source": [
        "red2 = red.copy()\n",
        "red2[\"date\"] = red2.created_utc.apply(utc_to_date)"
      ],
      "execution_count": 0,
      "outputs": []
    },
    {
      "cell_type": "code",
      "metadata": {
        "id": "RMgRk3DxkA-c",
        "colab_type": "code",
        "colab": {}
      },
      "source": [
        "aggs = red2.groupby(\"date\").apply(aggregate_score)"
      ],
      "execution_count": 0,
      "outputs": []
    },
    {
      "cell_type": "code",
      "metadata": {
        "id": "wtSazab2kwAk",
        "colab_type": "code",
        "outputId": "8b763adf-3d80-40b8-88b1-4bf676707a46",
        "colab": {
          "base_uri": "https://localhost:8080/",
          "height": 238
        }
      },
      "source": [
        "aggs"
      ],
      "execution_count": 0,
      "outputs": [
        {
          "output_type": "execute_result",
          "data": {
            "text/plain": [
              "date\n",
              "2008-03-17    [0.06911545991897583, 0.0015553233679383993, -...\n",
              "2008-03-18    [-0.011221963912248611, 0.008152482099831104, ...\n",
              "2008-03-19    [-0.05266345012933016, 0.14257743582129478, -0...\n",
              "2008-03-20    [0.029394835233688354, 0.06772486865520477, -0...\n",
              "2008-03-21    [-0.07712917774915695, 0.04496147111058235, -0...\n",
              "                                    ...                        \n",
              "2020-01-02    [-0.08120829425752163, 0.4266323000192642, -0....\n",
              "2020-01-03    [-0.11732648708857596, 0.9997946191579103, -0....\n",
              "2020-01-04    [-0.17635978001635522, 0.5973860220983624, -0....\n",
              "2020-01-05    [-0.024435298517346382, 0.0701550617814064, -0...\n",
              "2020-01-28    [-0.22190772369503975, 0.30561483185738325, -0...\n",
              "Length: 3942, dtype: object"
            ]
          },
          "metadata": {
            "tags": []
          },
          "execution_count": 15
        }
      ]
    },
    {
      "cell_type": "code",
      "metadata": {
        "id": "1cww2UHclR4d",
        "colab_type": "code",
        "outputId": "cf47078b-79d1-4b84-8f8a-3809ff7a01f1",
        "colab": {
          "base_uri": "https://localhost:8080/",
          "height": 419
        }
      },
      "source": [
        "final_vectors = pd.DataFrame(data={\"vector\": aggs}, index=red2.date.unique())\n",
        "final_vectors"
      ],
      "execution_count": 0,
      "outputs": [
        {
          "output_type": "execute_result",
          "data": {
            "text/html": [
              "<div>\n",
              "<style scoped>\n",
              "    .dataframe tbody tr th:only-of-type {\n",
              "        vertical-align: middle;\n",
              "    }\n",
              "\n",
              "    .dataframe tbody tr th {\n",
              "        vertical-align: top;\n",
              "    }\n",
              "\n",
              "    .dataframe thead th {\n",
              "        text-align: right;\n",
              "    }\n",
              "</style>\n",
              "<table border=\"1\" class=\"dataframe\">\n",
              "  <thead>\n",
              "    <tr style=\"text-align: right;\">\n",
              "      <th></th>\n",
              "      <th>vector</th>\n",
              "    </tr>\n",
              "  </thead>\n",
              "  <tbody>\n",
              "    <tr>\n",
              "      <th>2008-03-17</th>\n",
              "      <td>[0.06911545991897583, 0.0015553233679383993, -...</td>\n",
              "    </tr>\n",
              "    <tr>\n",
              "      <th>2008-03-18</th>\n",
              "      <td>[-0.011221963912248611, 0.008152482099831104, ...</td>\n",
              "    </tr>\n",
              "    <tr>\n",
              "      <th>2008-03-19</th>\n",
              "      <td>[-0.05266345012933016, 0.14257743582129478, -0...</td>\n",
              "    </tr>\n",
              "    <tr>\n",
              "      <th>2008-03-20</th>\n",
              "      <td>[0.029394835233688354, 0.06772486865520477, -0...</td>\n",
              "    </tr>\n",
              "    <tr>\n",
              "      <th>2008-03-21</th>\n",
              "      <td>[-0.07712917774915695, 0.04496147111058235, -0...</td>\n",
              "    </tr>\n",
              "    <tr>\n",
              "      <th>...</th>\n",
              "      <td>...</td>\n",
              "    </tr>\n",
              "    <tr>\n",
              "      <th>2020-01-02</th>\n",
              "      <td>[-0.08120829425752163, 0.4266323000192642, -0....</td>\n",
              "    </tr>\n",
              "    <tr>\n",
              "      <th>2020-01-03</th>\n",
              "      <td>[-0.11732648708857596, 0.9997946191579103, -0....</td>\n",
              "    </tr>\n",
              "    <tr>\n",
              "      <th>2020-01-04</th>\n",
              "      <td>[-0.17635978001635522, 0.5973860220983624, -0....</td>\n",
              "    </tr>\n",
              "    <tr>\n",
              "      <th>2020-01-05</th>\n",
              "      <td>[-0.024435298517346382, 0.0701550617814064, -0...</td>\n",
              "    </tr>\n",
              "    <tr>\n",
              "      <th>2020-01-28</th>\n",
              "      <td>[-0.22190772369503975, 0.30561483185738325, -0...</td>\n",
              "    </tr>\n",
              "  </tbody>\n",
              "</table>\n",
              "<p>3942 rows × 1 columns</p>\n",
              "</div>"
            ],
            "text/plain": [
              "                                                       vector\n",
              "2008-03-17  [0.06911545991897583, 0.0015553233679383993, -...\n",
              "2008-03-18  [-0.011221963912248611, 0.008152482099831104, ...\n",
              "2008-03-19  [-0.05266345012933016, 0.14257743582129478, -0...\n",
              "2008-03-20  [0.029394835233688354, 0.06772486865520477, -0...\n",
              "2008-03-21  [-0.07712917774915695, 0.04496147111058235, -0...\n",
              "...                                                       ...\n",
              "2020-01-02  [-0.08120829425752163, 0.4266323000192642, -0....\n",
              "2020-01-03  [-0.11732648708857596, 0.9997946191579103, -0....\n",
              "2020-01-04  [-0.17635978001635522, 0.5973860220983624, -0....\n",
              "2020-01-05  [-0.024435298517346382, 0.0701550617814064, -0...\n",
              "2020-01-28  [-0.22190772369503975, 0.30561483185738325, -0...\n",
              "\n",
              "[3942 rows x 1 columns]"
            ]
          },
          "metadata": {
            "tags": []
          },
          "execution_count": 16
        }
      ]
    },
    {
      "cell_type": "code",
      "metadata": {
        "id": "x9RHIkWjog9j",
        "colab_type": "code",
        "colab": {}
      },
      "source": [
        "stock_market = pd.read_csv(\"stock_market.csv\", index_col=0)"
      ],
      "execution_count": 0,
      "outputs": []
    },
    {
      "cell_type": "code",
      "metadata": {
        "id": "1pkJNJrsq-tY",
        "colab_type": "code",
        "outputId": "e18b8e43-c424-472e-b8a5-c6f42d32c0ab",
        "colab": {
          "base_uri": "https://localhost:8080/",
          "height": 450
        }
      },
      "source": [
        "sm = stock_market.drop(columns=[\"year\", \"month\", \"day\", \"utc\"])\n",
        "sm"
      ],
      "execution_count": 0,
      "outputs": [
        {
          "output_type": "execute_result",
          "data": {
            "text/html": [
              "<div>\n",
              "<style scoped>\n",
              "    .dataframe tbody tr th:only-of-type {\n",
              "        vertical-align: middle;\n",
              "    }\n",
              "\n",
              "    .dataframe tbody tr th {\n",
              "        vertical-align: top;\n",
              "    }\n",
              "\n",
              "    .dataframe thead th {\n",
              "        text-align: right;\n",
              "    }\n",
              "</style>\n",
              "<table border=\"1\" class=\"dataframe\">\n",
              "  <thead>\n",
              "    <tr style=\"text-align: right;\">\n",
              "      <th></th>\n",
              "      <th>1. open</th>\n",
              "      <th>4. close</th>\n",
              "    </tr>\n",
              "    <tr>\n",
              "      <th>index</th>\n",
              "      <th></th>\n",
              "      <th></th>\n",
              "    </tr>\n",
              "  </thead>\n",
              "  <tbody>\n",
              "    <tr>\n",
              "      <th>2020-02-21</th>\n",
              "      <td>318.62</td>\n",
              "      <td>313.05</td>\n",
              "    </tr>\n",
              "    <tr>\n",
              "      <th>2020-02-20</th>\n",
              "      <td>322.63</td>\n",
              "      <td>320.30</td>\n",
              "    </tr>\n",
              "    <tr>\n",
              "      <th>2020-02-19</th>\n",
              "      <td>320.00</td>\n",
              "      <td>323.62</td>\n",
              "    </tr>\n",
              "    <tr>\n",
              "      <th>2020-02-18</th>\n",
              "      <td>315.36</td>\n",
              "      <td>319.00</td>\n",
              "    </tr>\n",
              "    <tr>\n",
              "      <th>2020-02-14</th>\n",
              "      <td>324.73</td>\n",
              "      <td>324.95</td>\n",
              "    </tr>\n",
              "    <tr>\n",
              "      <th>...</th>\n",
              "      <td>...</td>\n",
              "      <td>...</td>\n",
              "    </tr>\n",
              "    <tr>\n",
              "      <th>2000-02-28</th>\n",
              "      <td>110.12</td>\n",
              "      <td>113.25</td>\n",
              "    </tr>\n",
              "    <tr>\n",
              "      <th>2000-02-25</th>\n",
              "      <td>114.81</td>\n",
              "      <td>110.37</td>\n",
              "    </tr>\n",
              "    <tr>\n",
              "      <th>2000-02-24</th>\n",
              "      <td>117.31</td>\n",
              "      <td>115.20</td>\n",
              "    </tr>\n",
              "    <tr>\n",
              "      <th>2000-02-23</th>\n",
              "      <td>113.23</td>\n",
              "      <td>116.25</td>\n",
              "    </tr>\n",
              "    <tr>\n",
              "      <th>2000-02-22</th>\n",
              "      <td>110.12</td>\n",
              "      <td>113.81</td>\n",
              "    </tr>\n",
              "  </tbody>\n",
              "</table>\n",
              "<p>5032 rows × 2 columns</p>\n",
              "</div>"
            ],
            "text/plain": [
              "            1. open  4. close\n",
              "index                        \n",
              "2020-02-21   318.62    313.05\n",
              "2020-02-20   322.63    320.30\n",
              "2020-02-19   320.00    323.62\n",
              "2020-02-18   315.36    319.00\n",
              "2020-02-14   324.73    324.95\n",
              "...             ...       ...\n",
              "2000-02-28   110.12    113.25\n",
              "2000-02-25   114.81    110.37\n",
              "2000-02-24   117.31    115.20\n",
              "2000-02-23   113.23    116.25\n",
              "2000-02-22   110.12    113.81\n",
              "\n",
              "[5032 rows x 2 columns]"
            ]
          },
          "metadata": {
            "tags": []
          },
          "execution_count": 18
        }
      ]
    },
    {
      "cell_type": "code",
      "metadata": {
        "id": "-2AoCIoKrB58",
        "colab_type": "code",
        "outputId": "662cc8e9-37ed-42ad-eead-ddee2b965d56",
        "colab": {
          "base_uri": "https://localhost:8080/",
          "height": 450
        }
      },
      "source": [
        "sm = sm.rename(columns={\"1. open\": \"open\", \"4. close\": \"close\"})\n",
        "sm[\"open\"] = sm[\"open\"].shift(1)\n",
        "sm.dropna(axis=0, inplace=True)\n",
        "sm"
      ],
      "execution_count": 0,
      "outputs": [
        {
          "output_type": "execute_result",
          "data": {
            "text/html": [
              "<div>\n",
              "<style scoped>\n",
              "    .dataframe tbody tr th:only-of-type {\n",
              "        vertical-align: middle;\n",
              "    }\n",
              "\n",
              "    .dataframe tbody tr th {\n",
              "        vertical-align: top;\n",
              "    }\n",
              "\n",
              "    .dataframe thead th {\n",
              "        text-align: right;\n",
              "    }\n",
              "</style>\n",
              "<table border=\"1\" class=\"dataframe\">\n",
              "  <thead>\n",
              "    <tr style=\"text-align: right;\">\n",
              "      <th></th>\n",
              "      <th>open</th>\n",
              "      <th>close</th>\n",
              "    </tr>\n",
              "    <tr>\n",
              "      <th>index</th>\n",
              "      <th></th>\n",
              "      <th></th>\n",
              "    </tr>\n",
              "  </thead>\n",
              "  <tbody>\n",
              "    <tr>\n",
              "      <th>2020-02-20</th>\n",
              "      <td>318.62</td>\n",
              "      <td>320.30</td>\n",
              "    </tr>\n",
              "    <tr>\n",
              "      <th>2020-02-19</th>\n",
              "      <td>322.63</td>\n",
              "      <td>323.62</td>\n",
              "    </tr>\n",
              "    <tr>\n",
              "      <th>2020-02-18</th>\n",
              "      <td>320.00</td>\n",
              "      <td>319.00</td>\n",
              "    </tr>\n",
              "    <tr>\n",
              "      <th>2020-02-14</th>\n",
              "      <td>315.36</td>\n",
              "      <td>324.95</td>\n",
              "    </tr>\n",
              "    <tr>\n",
              "      <th>2020-02-13</th>\n",
              "      <td>324.73</td>\n",
              "      <td>324.87</td>\n",
              "    </tr>\n",
              "    <tr>\n",
              "      <th>...</th>\n",
              "      <td>...</td>\n",
              "      <td>...</td>\n",
              "    </tr>\n",
              "    <tr>\n",
              "      <th>2000-02-28</th>\n",
              "      <td>113.56</td>\n",
              "      <td>113.25</td>\n",
              "    </tr>\n",
              "    <tr>\n",
              "      <th>2000-02-25</th>\n",
              "      <td>110.12</td>\n",
              "      <td>110.37</td>\n",
              "    </tr>\n",
              "    <tr>\n",
              "      <th>2000-02-24</th>\n",
              "      <td>114.81</td>\n",
              "      <td>115.20</td>\n",
              "    </tr>\n",
              "    <tr>\n",
              "      <th>2000-02-23</th>\n",
              "      <td>117.31</td>\n",
              "      <td>116.25</td>\n",
              "    </tr>\n",
              "    <tr>\n",
              "      <th>2000-02-22</th>\n",
              "      <td>113.23</td>\n",
              "      <td>113.81</td>\n",
              "    </tr>\n",
              "  </tbody>\n",
              "</table>\n",
              "<p>5031 rows × 2 columns</p>\n",
              "</div>"
            ],
            "text/plain": [
              "              open   close\n",
              "index                     \n",
              "2020-02-20  318.62  320.30\n",
              "2020-02-19  322.63  323.62\n",
              "2020-02-18  320.00  319.00\n",
              "2020-02-14  315.36  324.95\n",
              "2020-02-13  324.73  324.87\n",
              "...            ...     ...\n",
              "2000-02-28  113.56  113.25\n",
              "2000-02-25  110.12  110.37\n",
              "2000-02-24  114.81  115.20\n",
              "2000-02-23  117.31  116.25\n",
              "2000-02-22  113.23  113.81\n",
              "\n",
              "[5031 rows x 2 columns]"
            ]
          },
          "metadata": {
            "tags": []
          },
          "execution_count": 19
        }
      ]
    },
    {
      "cell_type": "code",
      "metadata": {
        "id": "cxNaMD3avzHO",
        "colab_type": "code",
        "outputId": "429f3fa4-592d-4c52-87b4-1b78b7744ea5",
        "colab": {
          "base_uri": "https://localhost:8080/",
          "height": 450
        }
      },
      "source": [
        "newsm = sm.join(final_vectors, on=\"index\", how=\"inner\")\n",
        "newsm = newsm.rename(columns={\"1. open\": \"open\", \"4. close\": \"close\"})\n",
        "newsm\n",
        "# newsm.vector['2020-02-10']"
      ],
      "execution_count": 0,
      "outputs": [
        {
          "output_type": "execute_result",
          "data": {
            "text/html": [
              "<div>\n",
              "<style scoped>\n",
              "    .dataframe tbody tr th:only-of-type {\n",
              "        vertical-align: middle;\n",
              "    }\n",
              "\n",
              "    .dataframe tbody tr th {\n",
              "        vertical-align: top;\n",
              "    }\n",
              "\n",
              "    .dataframe thead th {\n",
              "        text-align: right;\n",
              "    }\n",
              "</style>\n",
              "<table border=\"1\" class=\"dataframe\">\n",
              "  <thead>\n",
              "    <tr style=\"text-align: right;\">\n",
              "      <th></th>\n",
              "      <th>open</th>\n",
              "      <th>close</th>\n",
              "      <th>vector</th>\n",
              "    </tr>\n",
              "    <tr>\n",
              "      <th>index</th>\n",
              "      <th></th>\n",
              "      <th></th>\n",
              "      <th></th>\n",
              "    </tr>\n",
              "  </thead>\n",
              "  <tbody>\n",
              "    <tr>\n",
              "      <th>2020-01-28</th>\n",
              "      <td>324.45</td>\n",
              "      <td>317.69</td>\n",
              "      <td>[-0.22190772369503975, 0.30561483185738325, -0...</td>\n",
              "    </tr>\n",
              "    <tr>\n",
              "      <th>2020-01-03</th>\n",
              "      <td>293.79</td>\n",
              "      <td>297.43</td>\n",
              "      <td>[-0.11732648708857596, 0.9997946191579103, -0....</td>\n",
              "    </tr>\n",
              "    <tr>\n",
              "      <th>2020-01-02</th>\n",
              "      <td>297.15</td>\n",
              "      <td>300.35</td>\n",
              "      <td>[-0.08120829425752163, 0.4266323000192642, -0....</td>\n",
              "    </tr>\n",
              "    <tr>\n",
              "      <th>2019-11-19</th>\n",
              "      <td>265.54</td>\n",
              "      <td>266.29</td>\n",
              "      <td>[-0.05377985071390867, 0.2639914508908987, -0....</td>\n",
              "    </tr>\n",
              "    <tr>\n",
              "      <th>2019-11-06</th>\n",
              "      <td>258.74</td>\n",
              "      <td>257.24</td>\n",
              "      <td>[-0.2616723934188485, 1.3723224624991417, -0.8...</td>\n",
              "    </tr>\n",
              "    <tr>\n",
              "      <th>...</th>\n",
              "      <td>...</td>\n",
              "      <td>...</td>\n",
              "      <td>...</td>\n",
              "    </tr>\n",
              "    <tr>\n",
              "      <th>2008-06-09</th>\n",
              "      <td>180.33</td>\n",
              "      <td>181.61</td>\n",
              "      <td>[0.020789338275790215, 0.27000209502875805, -0...</td>\n",
              "    </tr>\n",
              "    <tr>\n",
              "      <th>2008-03-20</th>\n",
              "      <td>134.01</td>\n",
              "      <td>133.27</td>\n",
              "      <td>[0.029394835233688354, 0.06772486865520477, -0...</td>\n",
              "    </tr>\n",
              "    <tr>\n",
              "      <th>2008-03-19</th>\n",
              "      <td>131.12</td>\n",
              "      <td>129.67</td>\n",
              "      <td>[-0.05266345012933016, 0.14257743582129478, -0...</td>\n",
              "    </tr>\n",
              "    <tr>\n",
              "      <th>2008-03-18</th>\n",
              "      <td>133.12</td>\n",
              "      <td>132.82</td>\n",
              "      <td>[-0.011221963912248611, 0.008152482099831104, ...</td>\n",
              "    </tr>\n",
              "    <tr>\n",
              "      <th>2008-03-17</th>\n",
              "      <td>129.18</td>\n",
              "      <td>126.73</td>\n",
              "      <td>[0.06911545991897583, 0.0015553233679383993, -...</td>\n",
              "    </tr>\n",
              "  </tbody>\n",
              "</table>\n",
              "<p>2738 rows × 3 columns</p>\n",
              "</div>"
            ],
            "text/plain": [
              "              open   close                                             vector\n",
              "index                                                                        \n",
              "2020-01-28  324.45  317.69  [-0.22190772369503975, 0.30561483185738325, -0...\n",
              "2020-01-03  293.79  297.43  [-0.11732648708857596, 0.9997946191579103, -0....\n",
              "2020-01-02  297.15  300.35  [-0.08120829425752163, 0.4266323000192642, -0....\n",
              "2019-11-19  265.54  266.29  [-0.05377985071390867, 0.2639914508908987, -0....\n",
              "2019-11-06  258.74  257.24  [-0.2616723934188485, 1.3723224624991417, -0.8...\n",
              "...            ...     ...                                                ...\n",
              "2008-06-09  180.33  181.61  [0.020789338275790215, 0.27000209502875805, -0...\n",
              "2008-03-20  134.01  133.27  [0.029394835233688354, 0.06772486865520477, -0...\n",
              "2008-03-19  131.12  129.67  [-0.05266345012933016, 0.14257743582129478, -0...\n",
              "2008-03-18  133.12  132.82  [-0.011221963912248611, 0.008152482099831104, ...\n",
              "2008-03-17  129.18  126.73  [0.06911545991897583, 0.0015553233679383993, -...\n",
              "\n",
              "[2738 rows x 3 columns]"
            ]
          },
          "metadata": {
            "tags": []
          },
          "execution_count": 20
        }
      ]
    },
    {
      "cell_type": "code",
      "metadata": {
        "id": "Dut9QyvLrKDH",
        "colab_type": "code",
        "colab": {}
      },
      "source": [
        "all_data = newsm\n",
        "all_data.to_csv(\"all_data.csv\")"
      ],
      "execution_count": 0,
      "outputs": []
    },
    {
      "cell_type": "code",
      "metadata": {
        "id": "GJbj36xpre0n",
        "colab_type": "code",
        "outputId": "7c08c184-45ac-4a47-b452-f45389348328",
        "colab": {
          "base_uri": "https://localhost:8080/",
          "height": 450
        }
      },
      "source": [
        "all_data"
      ],
      "execution_count": 0,
      "outputs": [
        {
          "output_type": "execute_result",
          "data": {
            "text/html": [
              "<div>\n",
              "<style scoped>\n",
              "    .dataframe tbody tr th:only-of-type {\n",
              "        vertical-align: middle;\n",
              "    }\n",
              "\n",
              "    .dataframe tbody tr th {\n",
              "        vertical-align: top;\n",
              "    }\n",
              "\n",
              "    .dataframe thead th {\n",
              "        text-align: right;\n",
              "    }\n",
              "</style>\n",
              "<table border=\"1\" class=\"dataframe\">\n",
              "  <thead>\n",
              "    <tr style=\"text-align: right;\">\n",
              "      <th></th>\n",
              "      <th>open</th>\n",
              "      <th>close</th>\n",
              "      <th>vector</th>\n",
              "    </tr>\n",
              "    <tr>\n",
              "      <th>index</th>\n",
              "      <th></th>\n",
              "      <th></th>\n",
              "      <th></th>\n",
              "    </tr>\n",
              "  </thead>\n",
              "  <tbody>\n",
              "    <tr>\n",
              "      <th>2020-01-28</th>\n",
              "      <td>324.45</td>\n",
              "      <td>317.69</td>\n",
              "      <td>[-0.22190772369503975, 0.30561483185738325, -0...</td>\n",
              "    </tr>\n",
              "    <tr>\n",
              "      <th>2020-01-03</th>\n",
              "      <td>293.79</td>\n",
              "      <td>297.43</td>\n",
              "      <td>[-0.11732648708857596, 0.9997946191579103, -0....</td>\n",
              "    </tr>\n",
              "    <tr>\n",
              "      <th>2020-01-02</th>\n",
              "      <td>297.15</td>\n",
              "      <td>300.35</td>\n",
              "      <td>[-0.08120829425752163, 0.4266323000192642, -0....</td>\n",
              "    </tr>\n",
              "    <tr>\n",
              "      <th>2019-11-19</th>\n",
              "      <td>265.54</td>\n",
              "      <td>266.29</td>\n",
              "      <td>[-0.05377985071390867, 0.2639914508908987, -0....</td>\n",
              "    </tr>\n",
              "    <tr>\n",
              "      <th>2019-11-06</th>\n",
              "      <td>258.74</td>\n",
              "      <td>257.24</td>\n",
              "      <td>[-0.2616723934188485, 1.3723224624991417, -0.8...</td>\n",
              "    </tr>\n",
              "    <tr>\n",
              "      <th>...</th>\n",
              "      <td>...</td>\n",
              "      <td>...</td>\n",
              "      <td>...</td>\n",
              "    </tr>\n",
              "    <tr>\n",
              "      <th>2008-06-09</th>\n",
              "      <td>180.33</td>\n",
              "      <td>181.61</td>\n",
              "      <td>[0.020789338275790215, 0.27000209502875805, -0...</td>\n",
              "    </tr>\n",
              "    <tr>\n",
              "      <th>2008-03-20</th>\n",
              "      <td>134.01</td>\n",
              "      <td>133.27</td>\n",
              "      <td>[0.029394835233688354, 0.06772486865520477, -0...</td>\n",
              "    </tr>\n",
              "    <tr>\n",
              "      <th>2008-03-19</th>\n",
              "      <td>131.12</td>\n",
              "      <td>129.67</td>\n",
              "      <td>[-0.05266345012933016, 0.14257743582129478, -0...</td>\n",
              "    </tr>\n",
              "    <tr>\n",
              "      <th>2008-03-18</th>\n",
              "      <td>133.12</td>\n",
              "      <td>132.82</td>\n",
              "      <td>[-0.011221963912248611, 0.008152482099831104, ...</td>\n",
              "    </tr>\n",
              "    <tr>\n",
              "      <th>2008-03-17</th>\n",
              "      <td>129.18</td>\n",
              "      <td>126.73</td>\n",
              "      <td>[0.06911545991897583, 0.0015553233679383993, -...</td>\n",
              "    </tr>\n",
              "  </tbody>\n",
              "</table>\n",
              "<p>2738 rows × 3 columns</p>\n",
              "</div>"
            ],
            "text/plain": [
              "              open   close                                             vector\n",
              "index                                                                        \n",
              "2020-01-28  324.45  317.69  [-0.22190772369503975, 0.30561483185738325, -0...\n",
              "2020-01-03  293.79  297.43  [-0.11732648708857596, 0.9997946191579103, -0....\n",
              "2020-01-02  297.15  300.35  [-0.08120829425752163, 0.4266323000192642, -0....\n",
              "2019-11-19  265.54  266.29  [-0.05377985071390867, 0.2639914508908987, -0....\n",
              "2019-11-06  258.74  257.24  [-0.2616723934188485, 1.3723224624991417, -0.8...\n",
              "...            ...     ...                                                ...\n",
              "2008-06-09  180.33  181.61  [0.020789338275790215, 0.27000209502875805, -0...\n",
              "2008-03-20  134.01  133.27  [0.029394835233688354, 0.06772486865520477, -0...\n",
              "2008-03-19  131.12  129.67  [-0.05266345012933016, 0.14257743582129478, -0...\n",
              "2008-03-18  133.12  132.82  [-0.011221963912248611, 0.008152482099831104, ...\n",
              "2008-03-17  129.18  126.73  [0.06911545991897583, 0.0015553233679383993, -...\n",
              "\n",
              "[2738 rows x 3 columns]"
            ]
          },
          "metadata": {
            "tags": []
          },
          "execution_count": 22
        }
      ]
    },
    {
      "cell_type": "markdown",
      "metadata": {
        "id": "Ovp_gaUGxnPZ",
        "colab_type": "text"
      },
      "source": [
        "# Making a Model"
      ]
    },
    {
      "cell_type": "code",
      "metadata": {
        "id": "_8wWFfv-4EOM",
        "colab_type": "code",
        "colab": {}
      },
      "source": [
        "import pickle"
      ],
      "execution_count": 0,
      "outputs": []
    },
    {
      "cell_type": "code",
      "metadata": {
        "id": "tjgC_udF7hhe",
        "colab_type": "code",
        "colab": {}
      },
      "source": [
        "with open('data.pkl', 'wb') as output:\n",
        "  pickle.dump(all_data, output)"
      ],
      "execution_count": 0,
      "outputs": []
    },
    {
      "cell_type": "code",
      "metadata": {
        "id": "SFOBWQ6g7rm_",
        "colab_type": "code",
        "colab": {}
      },
      "source": [
        ""
      ],
      "execution_count": 0,
      "outputs": []
    }
  ]
}